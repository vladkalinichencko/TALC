{
 "cells": [
  {
   "cell_type": "code",
   "execution_count": null,
   "metadata": {},
   "outputs": [],
   "source": [
    "from mlx_lm import load, generate, convert\n",
    "import mlx_lm.utils as utils\n",
    "from pathlib import Path\n",
    "from huggingface_hub import snapshot_download, login\n",
    "from token_file import HF_TOKEN\n",
    "\n",
    "login(token=HF_TOKEN)"
   ]
  },
  {
   "cell_type": "markdown",
   "metadata": {},
   "source": [
    "For unconverted models:"
   ]
  },
  {
   "cell_type": "code",
   "execution_count": null,
   "metadata": {},
   "outputs": [],
   "source": [
    "# repo_name = \"mistralai/Mistral-7B-Instruct-v0.3\"\n",
    "# model_path = Path(\"/Users/vladislavkalinichenko/Downloads/mlx-examples-main/n-ext_agent_slm/mlx_model\")\n",
    "\n",
    "# model, tokenizer = load(repo_name)\n",
    "\n",
    "# snapshot_download(repo_id=repo_name, allow_patterns=[\"params.json\", \"consolidated.safetensors\", \"tokenizer.model.v3\"], local_dir=model_path)\n",
    "\n",
    "# convert(repo_name, quantize=False)\n",
    "\n",
    "# model = utils.load_model(model_path)"
   ]
  },
  {
   "cell_type": "markdown",
   "metadata": {},
   "source": [
    "For converted models:"
   ]
  },
  {
   "cell_type": "code",
   "execution_count": null,
   "metadata": {},
   "outputs": [],
   "source": [
    "# mistralai/Mistral-7B-Instruct-v0.3\n",
    "# Trelis/Meta-Llama-3-8B-Instruct-function-calling\n",
    "# mzbac/Phi-3-mini-4k-instruct-function-calling\n",
    "# mlx-community/c4ai-command-r-v01-4bit\n",
    "# mlx-community/Phi-3-mini-4k-instruct-8bit\n",
    "\n",
    "repo_name = \"mistralai/Mistral-7B-v0.3\"\n",
    "# model_path = Path(\"/Users/vladislavkalinichenko/Downloads/mlx-examples-main/n-ext_agent_slm/mlx_mistral_model\")\n",
    "\n",
    "model, tokenizer = load(repo_name)"
   ]
  },
  {
   "cell_type": "code",
   "execution_count": null,
   "metadata": {},
   "outputs": [],
   "source": [
    "repo_name = \"mlx-community/c4ai-command-r-v01-4bit\"\n",
    "model_path = Path(\"/Users/vladislavkalinichenko/Downloads/mlx-examples-main/n-ext_agent_slm/mlx_command_r_model\")\n",
    "\n",
    "model, tokenizer = load(repo_name)"
   ]
  },
  {
   "cell_type": "code",
   "execution_count": null,
   "metadata": {},
   "outputs": [],
   "source": [
    "repo_name = \"mlx-community/Phi-3-mini-4k-instruct-8bit\"\n",
    "model_path = Path(\"/Users/vladislavkalinichenko/Downloads/mlx-examples-main/n-ext_agent_slm/mlx_phi_model\")\n",
    "\n",
    "model, tokenizer = load(repo_name)"
   ]
  },
  {
   "cell_type": "code",
   "execution_count": null,
   "metadata": {},
   "outputs": [],
   "source": [
    "repo_name = \"mzbac/Phi-3-mini-4k-instruct-function-calling\"\n",
    "\n",
    "model, tokenizer = load(repo_name)"
   ]
  },
  {
   "cell_type": "markdown",
   "metadata": {},
   "source": [
    "Tryout a responce:"
   ]
  },
  {
   "cell_type": "code",
   "execution_count": null,
   "metadata": {},
   "outputs": [],
   "source": [
    "prompt = '''\n",
    "A user asks: Play the song 'Shape of You' by Ed Sheeran. Therefore, you have to \n",
    "'''\n",
    "\n",
    "response = generate(model, tokenizer, prompt=prompt, verbose=True)"
   ]
  },
  {
   "cell_type": "markdown",
   "metadata": {},
   "source": [
    "TALC approach:"
   ]
  },
  {
   "cell_type": "code",
   "execution_count": null,
   "metadata": {},
   "outputs": [],
   "source": [
    "from tokenwise_classification import *\n",
    "\n",
    "print(evaluate_talc(model, \"Therefore, you have to\", tokenizer, \"tools/music_app_new.json\"))"
   ]
  },
  {
   "cell_type": "markdown",
   "metadata": {},
   "source": [
    "Vector Similarity approach:"
   ]
  },
  {
   "cell_type": "code",
   "execution_count": null,
   "metadata": {},
   "outputs": [],
   "source": [
    "from tokenwise_classification import *\n",
    "\n",
    "print(evaluate_cos_sim(model, tokenizer, \"tools/music_app_new.json\"))"
   ]
  },
  {
   "cell_type": "markdown",
   "metadata": {},
   "source": [
    "Typical approach:"
   ]
  },
  {
   "cell_type": "code",
   "execution_count": null,
   "metadata": {},
   "outputs": [],
   "source": [
    "from tokenwise_classification import *\n",
    "\n",
    "print(evaluate_typical_method('mistral', model, tokenizer, \"tools/self-driving_car.json\"))"
   ]
  }
 ],
 "metadata": {
  "kernelspec": {
   "display_name": "Python 3",
   "language": "python",
   "name": "python3"
  },
  "language_info": {
   "codemirror_mode": {
    "name": "ipython",
    "version": 3
   },
   "file_extension": ".py",
   "mimetype": "text/x-python",
   "name": "python",
   "nbconvert_exporter": "python",
   "pygments_lexer": "ipython3",
   "version": "3.11.5"
  }
 },
 "nbformat": 4,
 "nbformat_minor": 2
}
